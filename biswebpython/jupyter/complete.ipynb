{
 "cells": [
  {
   "cell_type": "code",
   "execution_count": 1,
   "id": "02eea32b",
   "metadata": {},
   "outputs": [],
   "source": [
    "import bisweb_server; bisweb_server.start(9001,\"/Users/xenios/bisweb/src\")"
   ]
  },
  {
   "cell_type": "code",
   "execution_count": 2,
   "id": "b5a49408",
   "metadata": {},
   "outputs": [],
   "source": [
    "import IPython.display; from bisweb_viewer import Viewer; v=Viewer(9001); "
   ]
  },
  {
   "cell_type": "code",
   "execution_count": 3,
   "id": "daef481c",
   "metadata": {},
   "outputs": [
    {
     "name": "stdout",
     "output_type": "stream",
     "text": [
      "++++ creating viewer with URL= http://localhost:9002/web/lightviewer.html?port=9001\n"
     ]
    },
    {
     "data": {
      "text/html": [
       "\n",
       "        <iframe\n",
       "            width=\"800\"\n",
       "            height=\"800\"\n",
       "            src=\"http://localhost:9002/web/lightviewer.html?port=9001&index=0\"\n",
       "            frameborder=\"0\"\n",
       "            allowfullscreen\n",
       "        ></iframe>\n",
       "        "
      ],
      "text/plain": [
       "<IPython.lib.display.IFrame at 0x7f9d10110dc0>"
      ]
     },
     "execution_count": 3,
     "metadata": {},
     "output_type": "execute_result"
    }
   ],
   "source": [
    "eval(await v.createViewer())"
   ]
  },
  {
   "cell_type": "code",
   "execution_count": 4,
   "id": "36a9acd5",
   "metadata": {},
   "outputs": [],
   "source": [
    "import sys; import os; sys.path.append(os.path.abspath('../..'))\n"
   ]
  },
  {
   "cell_type": "code",
   "execution_count": 5,
   "id": "39c9f001",
   "metadata": {},
   "outputs": [],
   "source": [
    "import biswebpython.core.bis_objects as bis"
   ]
  },
  {
   "cell_type": "code",
   "execution_count": 6,
   "id": "9f2e4cb2",
   "metadata": {},
   "outputs": [],
   "source": [
    "a=bis.bisImage()"
   ]
  },
  {
   "cell_type": "code",
   "execution_count": 7,
   "id": "7e843ab4",
   "metadata": {},
   "outputs": [
    {
     "name": "stdout",
     "output_type": "stream",
     "text": [
      "++++ loaded  ../../web/images/AAL_1mm_ras.nii.gz. dims=[181, 217, 181, 1, 1] spa=[1.0, 1.0, 1.0, 1.0, 1.0] orientation=RAS tp=int16\n"
     ]
    },
    {
     "data": {
      "text/plain": [
       "<biswebpython.core.bis_objects.bisImage at 0x7f9d286425e0>"
      ]
     },
     "execution_count": 7,
     "metadata": {},
     "output_type": "execute_result"
    }
   ],
   "source": [
    "a.load('../../web/images/AAL_1mm_ras.nii.gz')"
   ]
  },
  {
   "cell_type": "code",
   "execution_count": 8,
   "id": "5c20d056",
   "metadata": {},
   "outputs": [
    {
     "name": "stdout",
     "output_type": "stream",
     "text": [
      "++++\t saved image in  /Users/xenios/bisweb/src/tmpfmergcq9/tmp_0_1.nii.gz\n"
     ]
    }
   ],
   "source": [
    "await v.setImageData(a)"
   ]
  },
  {
   "cell_type": "code",
   "execution_count": null,
   "id": "b8d8f929",
   "metadata": {},
   "outputs": [],
   "source": []
  }
 ],
 "metadata": {
  "kernelspec": {
   "display_name": "Python 3",
   "language": "python",
   "name": "python3"
  },
  "language_info": {
   "codemirror_mode": {
    "name": "ipython",
    "version": 3
   },
   "file_extension": ".py",
   "mimetype": "text/x-python",
   "name": "python",
   "nbconvert_exporter": "python",
   "pygments_lexer": "ipython3",
   "version": "3.8.8"
  }
 },
 "nbformat": 4,
 "nbformat_minor": 5
}
