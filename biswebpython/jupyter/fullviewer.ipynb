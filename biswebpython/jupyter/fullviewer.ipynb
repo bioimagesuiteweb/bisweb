{
 "cells": [
  {
   "cell_type": "code",
   "execution_count": 1,
   "id": "bcd0081d",
   "metadata": {},
   "outputs": [
    {
     "name": "stdout",
     "output_type": "stream",
     "text": [
      "import IPython.display; from bisweb_viewer import Viewer; v=Viewer(9001); eval(await v.createViewer())\n"
     ]
    }
   ],
   "source": [
    "import bisweb_help"
   ]
  },
  {
   "cell_type": "code",
   "execution_count": 2,
   "id": "b5a49408",
   "metadata": {},
   "outputs": [
    {
     "name": "stdout",
     "output_type": "stream",
     "text": [
      "++++ creating viewer with URL= http://localhost:9002/web/lightviewer.html?port=9001\n"
     ]
    },
    {
     "data": {
      "text/html": [
       "\n",
       "        <iframe\n",
       "            width=\"800\"\n",
       "            height=\"800\"\n",
       "            src=\"http://localhost:9002/web/lightviewer.html?port=9001&index=4\"\n",
       "            frameborder=\"0\"\n",
       "            allowfullscreen\n",
       "        ></iframe>\n",
       "        "
      ],
      "text/plain": [
       "<IPython.lib.display.IFrame at 0x7fc6280e1ee0>"
      ]
     },
     "execution_count": 2,
     "metadata": {},
     "output_type": "execute_result"
    }
   ],
   "source": [
    "import IPython.display; from bisweb_viewer import Viewer; v=Viewer(9001); eval(await v.createViewer())\n"
   ]
  },
  {
   "cell_type": "code",
   "execution_count": 3,
   "id": "36a9acd5",
   "metadata": {},
   "outputs": [],
   "source": [
    "import sys; import os; sys.path.append(os.path.abspath('../..'))\n"
   ]
  },
  {
   "cell_type": "code",
   "execution_count": 4,
   "id": "39c9f001",
   "metadata": {},
   "outputs": [
    {
     "name": "stdout",
     "output_type": "stream",
     "text": [
      "['/Users/xenios/bisweb/src/biswebpython/jupyter', '/Users/xenios/opt/anaconda3/lib/python38.zip', '/Users/xenios/opt/anaconda3/lib/python3.8', '/Users/xenios/opt/anaconda3/lib/python3.8/lib-dynload', '', '/Users/xenios/opt/anaconda3/lib/python3.8/site-packages', '/Users/xenios/opt/anaconda3/lib/python3.8/site-packages/aeosa', '/Users/xenios/opt/anaconda3/lib/python3.8/site-packages/locket-0.2.1-py3.8.egg', '/Users/xenios/opt/anaconda3/lib/python3.8/site-packages/IPython/extensions', '/Users/xenios/.ipython', '/Users/xenios/bisweb/src']\n"
     ]
    }
   ],
   "source": [
    "print(sys.path); import biswebpython.core.bis_objects as bis"
   ]
  },
  {
   "cell_type": "code",
   "execution_count": 5,
   "id": "9f2e4cb2",
   "metadata": {},
   "outputs": [],
   "source": [
    "a=bis.bisImage()"
   ]
  },
  {
   "cell_type": "code",
   "execution_count": 6,
   "id": "7e843ab4",
   "metadata": {},
   "outputs": [
    {
     "name": "stdout",
     "output_type": "stream",
     "text": [
      "++++ loaded  ../../web/images/AAL_1mm_ras.nii.gz. dims=[181, 217, 181, 1, 1] spa=[1.0, 1.0, 1.0, 1.0, 1.0] orientation=RAS tp=int16\n"
     ]
    },
    {
     "data": {
      "text/plain": [
       "<biswebpython.core.bis_objects.bisImage at 0x7fc639e00820>"
      ]
     },
     "execution_count": 6,
     "metadata": {},
     "output_type": "execute_result"
    }
   ],
   "source": [
    "a.load('../../web/images/AAL_1mm_ras.nii.gz')"
   ]
  },
  {
   "cell_type": "code",
   "execution_count": 7,
   "id": "5c20d056",
   "metadata": {},
   "outputs": [
    {
     "name": "stdout",
     "output_type": "stream",
     "text": [
      "tmp_4_1.nii.gz\n",
      "Saving image in /Users/xenios/bisweb/src/tmp1w_qe4h5/tmp_4_1.nii.gz\n",
      "++++\t saved image in  /Users/xenios/bisweb/src/tmp1w_qe4h5/tmp_4_1.nii.gz\n",
      "loading from  tmp1w_qe4h5/tmp_4_1.nii.gz\n"
     ]
    }
   ],
   "source": [
    "await v.setImageData(a)"
   ]
  }
 ],
 "metadata": {
  "kernelspec": {
   "display_name": "Python 3",
   "language": "python",
   "name": "python3"
  },
  "language_info": {
   "codemirror_mode": {
    "name": "ipython",
    "version": 3
   },
   "file_extension": ".py",
   "mimetype": "text/x-python",
   "name": "python",
   "nbconvert_exporter": "python",
   "pygments_lexer": "ipython3",
   "version": "3.8.8"
  }
 },
 "nbformat": 4,
 "nbformat_minor": 5
}
